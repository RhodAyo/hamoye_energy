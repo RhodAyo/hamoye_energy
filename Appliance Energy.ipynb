{
 "cells": [
  {
   "cell_type": "markdown",
   "id": "4a423e45",
   "metadata": {},
   "source": [
    "Hamoye ID : 1485ba305ac1f000"
   ]
  },
  {
   "cell_type": "code",
   "execution_count": 2,
   "id": "f944779b",
   "metadata": {},
   "outputs": [],
   "source": [
    "import pandas as pd\n",
    "import numpy as np\n",
    "import matplotlib as plt\n",
    "import seaborn as sns"
   ]
  },
  {
   "cell_type": "code",
   "execution_count": null,
   "id": "edc0d23d",
   "metadata": {},
   "outputs": [],
   "source": []
  }
 ],
 "metadata": {
  "kernelspec": {
   "display_name": "Python 3",
   "language": "python",
   "name": "python3"
  },
  "language_info": {
   "codemirror_mode": {
    "name": "ipython",
    "version": 3
   },
   "file_extension": ".py",
   "mimetype": "text/x-python",
   "name": "python",
   "nbconvert_exporter": "python",
   "pygments_lexer": "ipython3",
   "version": "3.8.8"
  }
 },
 "nbformat": 4,
 "nbformat_minor": 5
}
